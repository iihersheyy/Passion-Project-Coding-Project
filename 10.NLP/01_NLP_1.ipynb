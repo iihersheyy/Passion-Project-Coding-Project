{
  "nbformat": 4,
  "nbformat_minor": 0,
  "metadata": {
    "colab": {
      "provenance": []
    },
    "kernelspec": {
      "name": "python3",
      "display_name": "Python 3"
    },
    "language_info": {
      "name": "python"
    }
  },
  "cells": [
    {
      "cell_type": "code",
      "execution_count": 1,
      "metadata": {
        "colab": {
          "base_uri": "https://localhost:8080/"
        },
        "id": "3al7iNWW5eIP",
        "outputId": "12411029-ce6f-4e79-dd18-9a72e302e690"
      },
      "outputs": [
        {
          "output_type": "stream",
          "name": "stderr",
          "text": [
            "[nltk_data] Downloading package punkt to /root/nltk_data...\n",
            "[nltk_data]   Unzipping tokenizers/punkt.zip.\n"
          ]
        }
      ],
      "source": [
        "import nltk\n",
        "nltk.download(\"punkt\")\n",
        "from nltk.tokenize import word_tokenize,sent_tokenize"
      ]
    },
    {
      "cell_type": "code",
      "source": [
        "my_txt =\"Hello World, Machine Language - NLP.Let's learn\""
      ],
      "metadata": {
        "id": "Zh82MwuL5sSJ"
      },
      "execution_count": 2,
      "outputs": []
    },
    {
      "cell_type": "markdown",
      "source": [
        "**Lemmatization**"
      ],
      "metadata": {
        "id": "u3uJHR8C51Kv"
      }
    },
    {
      "cell_type": "code",
      "source": [
        "import nltk\n",
        "nltk.download('wordnet')\n",
        "nltk.download('omw-1.4')\n",
        "\n",
        "from nltk.stem import WordNetLemmatizer, PorterStemmer"
      ],
      "metadata": {
        "colab": {
          "base_uri": "https://localhost:8080/"
        },
        "id": "FKuwAg5h53NW",
        "outputId": "f11828b9-6d4e-47fc-8641-9cfcf4e69a3d"
      },
      "execution_count": 4,
      "outputs": [
        {
          "output_type": "stream",
          "name": "stderr",
          "text": [
            "[nltk_data] Downloading package wordnet to /root/nltk_data...\n",
            "[nltk_data]   Package wordnet is already up-to-date!\n",
            "[nltk_data] Downloading package omw-1.4 to /root/nltk_data...\n"
          ]
        }
      ]
    },
    {
      "cell_type": "code",
      "source": [
        "stem = PorterStemmer()\n",
        "lemma = WordNetLemmatizer()"
      ],
      "metadata": {
        "id": "3uAaXnki6UIk"
      },
      "execution_count": 6,
      "outputs": []
    },
    {
      "cell_type": "code",
      "source": [
        "print(lemma.lemmatize('change'))\n",
        "print(lemma.lemmatize('Changes'))\n",
        "print(lemma.lemmatize('changed'))\n",
        "print(lemma.lemmatize('Changer'))\n",
        "print(lemma.lemmatize('Chang'))"
      ],
      "metadata": {
        "colab": {
          "base_uri": "https://localhost:8080/"
        },
        "id": "gFtZDC2o6aN4",
        "outputId": "09f640d4-b1ca-47a2-9a18-02e15f2af9ab"
      },
      "execution_count": 7,
      "outputs": [
        {
          "output_type": "stream",
          "name": "stdout",
          "text": [
            "change\n",
            "Changes\n",
            "changed\n",
            "Changer\n",
            "Chang\n"
          ]
        }
      ]
    }
  ]
}