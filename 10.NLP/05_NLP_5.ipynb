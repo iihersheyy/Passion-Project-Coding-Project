{
  "nbformat": 4,
  "nbformat_minor": 0,
  "metadata": {
    "colab": {
      "provenance": []
    },
    "kernelspec": {
      "name": "python3",
      "display_name": "Python 3"
    },
    "language_info": {
      "name": "python"
    }
  },
  "cells": [
    {
      "cell_type": "markdown",
      "source": [
        "**Keras**"
      ],
      "metadata": {
        "id": "TA8LEYmW-9Gb"
      }
    },
    {
      "cell_type": "code",
      "execution_count": 1,
      "metadata": {
        "id": "c3AaXk_M-jhc"
      },
      "outputs": [],
      "source": [
        "from tensorflow.keras.preprocessing.text import Tokenizer"
      ]
    },
    {
      "cell_type": "code",
      "source": [
        "tok = Tokenizer()\n",
        "\n",
        "corp = ['coffee is hot','water is cold']\n",
        "tok.fit_on_texts(corp)\n",
        "\n",
        "tok\n"
      ],
      "metadata": {
        "colab": {
          "base_uri": "https://localhost:8080/"
        },
        "id": "01RCtSWg-rSX",
        "outputId": "646bf5b8-f58a-45b0-93c8-7e25fb5e3227"
      },
      "execution_count": 2,
      "outputs": [
        {
          "output_type": "execute_result",
          "data": {
            "text/plain": [
              "<keras.preprocessing.text.Tokenizer at 0x7a46553712d0>"
            ]
          },
          "metadata": {},
          "execution_count": 2
        }
      ]
    },
    {
      "cell_type": "code",
      "source": [
        "tok.word_index   # To tokenzieing the text to number"
      ],
      "metadata": {
        "colab": {
          "base_uri": "https://localhost:8080/"
        },
        "id": "z5Nx0dLk-vOu",
        "outputId": "f9bcfd68-dce0-4bf9-c4e9-b72be0b1dea2"
      },
      "execution_count": 3,
      "outputs": [
        {
          "output_type": "execute_result",
          "data": {
            "text/plain": [
              "{'is': 1, 'coffee': 2, 'hot': 3, 'water': 4, 'cold': 5}"
            ]
          },
          "metadata": {},
          "execution_count": 3
        }
      ]
    },
    {
      "cell_type": "code",
      "source": [
        "tok.texts_to_sequences(corp)  #Text to seqeunce using the tokens"
      ],
      "metadata": {
        "colab": {
          "base_uri": "https://localhost:8080/"
        },
        "id": "bNe8qBJw-xfi",
        "outputId": "512f86f5-7f21-48b5-e4f5-0573ac82e6ea"
      },
      "execution_count": 4,
      "outputs": [
        {
          "output_type": "execute_result",
          "data": {
            "text/plain": [
              "[[2, 1, 3], [4, 1, 5]]"
            ]
          },
          "metadata": {},
          "execution_count": 4
        }
      ]
    },
    {
      "cell_type": "code",
      "source": [
        "tok.texts_to_sequences(['water is hot','black coffee is cold'])  #Text to seqeunce using the tokens"
      ],
      "metadata": {
        "colab": {
          "base_uri": "https://localhost:8080/"
        },
        "id": "Vww2gKh9-0L8",
        "outputId": "e9e71820-d966-4256-9bc9-cbc21bab2e65"
      },
      "execution_count": 5,
      "outputs": [
        {
          "output_type": "execute_result",
          "data": {
            "text/plain": [
              "[[4, 1, 3], [2, 1, 5]]"
            ]
          },
          "metadata": {},
          "execution_count": 5
        }
      ]
    },
    {
      "cell_type": "code",
      "source": [
        "tok = Tokenizer(oov_token = \"black\")\n",
        "tok.fit_on_texts(corp)\n",
        "tok.texts_to_sequences(['water is hot','black coffee is cold'])  #Text to seqeunce using the tokens"
      ],
      "metadata": {
        "colab": {
          "base_uri": "https://localhost:8080/"
        },
        "id": "bktBEmIr-26D",
        "outputId": "479c3cfa-d10d-478a-ae64-7266b15fce42"
      },
      "execution_count": 6,
      "outputs": [
        {
          "output_type": "execute_result",
          "data": {
            "text/plain": [
              "[[5, 2, 4], [1, 3, 2, 6]]"
            ]
          },
          "metadata": {},
          "execution_count": 6
        }
      ]
    },
    {
      "cell_type": "code",
      "source": [
        "tok.word_index"
      ],
      "metadata": {
        "colab": {
          "base_uri": "https://localhost:8080/"
        },
        "id": "mNt14K2W-5Ef",
        "outputId": "96af3ed6-a75e-4702-9a2c-76dc5a9140f6"
      },
      "execution_count": 7,
      "outputs": [
        {
          "output_type": "execute_result",
          "data": {
            "text/plain": [
              "{'black': 1, 'is': 2, 'coffee': 3, 'hot': 4, 'water': 5, 'cold': 6}"
            ]
          },
          "metadata": {},
          "execution_count": 7
        }
      ]
    },
    {
      "cell_type": "code",
      "source": [
        "url = \"www.google.com\"\n",
        "urlencode =\"demo\"\n",
        "\n",
        "final_url = f\"{url}?{urlencode}\"\n",
        "\n",
        "print(final_url)"
      ],
      "metadata": {
        "colab": {
          "base_uri": "https://localhost:8080/"
        },
        "id": "UV0ZbNh2-7lF",
        "outputId": "daa80918-76cf-4a05-a1e4-ba03d144dcd0"
      },
      "execution_count": 8,
      "outputs": [
        {
          "output_type": "stream",
          "name": "stdout",
          "text": [
            "www.google.com?demo\n"
          ]
        }
      ]
    }
  ]
}