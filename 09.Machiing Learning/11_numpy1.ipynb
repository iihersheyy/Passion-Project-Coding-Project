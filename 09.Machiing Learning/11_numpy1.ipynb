{
  "nbformat": 4,
  "nbformat_minor": 0,
  "metadata": {
    "colab": {
      "provenance": []
    },
    "kernelspec": {
      "name": "python3",
      "display_name": "Python 3"
    },
    "language_info": {
      "name": "python"
    }
  },
  "cells": [
    {
      "cell_type": "markdown",
      "source": [
        "**NumPy Vs List**"
      ],
      "metadata": {
        "id": "XhhNFfhfPmpk"
      }
    },
    {
      "cell_type": "code",
      "execution_count": 1,
      "metadata": {
        "id": "lNjh8n5sPj93"
      },
      "outputs": [],
      "source": [
        "import numpy as np"
      ]
    },
    {
      "cell_type": "code",
      "source": [
        "lst1 = ['10','20','30','40']"
      ],
      "metadata": {
        "id": "qfZSEDPSPti4"
      },
      "execution_count": 2,
      "outputs": []
    },
    {
      "cell_type": "code",
      "source": [
        "type(lst1)"
      ],
      "metadata": {
        "colab": {
          "base_uri": "https://localhost:8080/"
        },
        "id": "Mb2WbdFOP7q9",
        "outputId": "7b616679-3981-4af4-cb50-6b7340cafb27"
      },
      "execution_count": 3,
      "outputs": [
        {
          "output_type": "execute_result",
          "data": {
            "text/plain": [
              "list"
            ]
          },
          "metadata": {},
          "execution_count": 3
        }
      ]
    },
    {
      "cell_type": "code",
      "source": [
        "array = np.array(lst1)\n",
        "type(array)"
      ],
      "metadata": {
        "colab": {
          "base_uri": "https://localhost:8080/"
        },
        "id": "53ZKHjUjQAuk",
        "outputId": "92d54419-85ef-4fda-b78c-a83f8d076ec4"
      },
      "execution_count": 5,
      "outputs": [
        {
          "output_type": "execute_result",
          "data": {
            "text/plain": [
              "numpy.ndarray"
            ]
          },
          "metadata": {},
          "execution_count": 5
        }
      ]
    },
    {
      "cell_type": "markdown",
      "source": [
        "** Number of DIM**"
      ],
      "metadata": {
        "id": "3wJC4pnuQNbj"
      }
    },
    {
      "cell_type": "code",
      "source": [
        "array.ndim"
      ],
      "metadata": {
        "colab": {
          "base_uri": "https://localhost:8080/"
        },
        "id": "pwgvaqwYQJkU",
        "outputId": "d2394f13-8d84-4e08-d9b9-997981a578bd"
      },
      "execution_count": 6,
      "outputs": [
        {
          "output_type": "execute_result",
          "data": {
            "text/plain": [
              "1"
            ]
          },
          "metadata": {},
          "execution_count": 6
        }
      ]
    },
    {
      "cell_type": "markdown",
      "source": [
        "**List can be collection of different datatype element**"
      ],
      "metadata": {
        "id": "Ifr6ZjjeQQID"
      }
    },
    {
      "cell_type": "code",
      "source": [
        "lst2 = ['1',2,'hello world']"
      ],
      "metadata": {
        "id": "l5GfbqOLQVya"
      },
      "execution_count": 7,
      "outputs": []
    },
    {
      "cell_type": "code",
      "source": [
        "lst2"
      ],
      "metadata": {
        "colab": {
          "base_uri": "https://localhost:8080/"
        },
        "id": "T3YFQr4JQbte",
        "outputId": "d8deed79-68d8-4657-eb5f-6bc4c8eb79e1"
      },
      "execution_count": 8,
      "outputs": [
        {
          "output_type": "execute_result",
          "data": {
            "text/plain": [
              "['1', 2, 'hello world']"
            ]
          },
          "metadata": {},
          "execution_count": 8
        }
      ]
    },
    {
      "cell_type": "code",
      "source": [
        "array2 = np.array(lst2)\n",
        "array2"
      ],
      "metadata": {
        "colab": {
          "base_uri": "https://localhost:8080/"
        },
        "id": "oHcYPp3PQd6y",
        "outputId": "516ac731-7a6a-4707-b4e2-6696a906c228"
      },
      "execution_count": 10,
      "outputs": [
        {
          "output_type": "execute_result",
          "data": {
            "text/plain": [
              "array(['1', '2', 'hello world'], dtype='<U21')"
            ]
          },
          "metadata": {},
          "execution_count": 10
        }
      ]
    },
    {
      "cell_type": "code",
      "source": [
        "print(array2)"
      ],
      "metadata": {
        "colab": {
          "base_uri": "https://localhost:8080/"
        },
        "id": "lqVIjKEKQpEx",
        "outputId": "9528a725-1c7c-4cc0-d7f1-590db8795172"
      },
      "execution_count": 11,
      "outputs": [
        {
          "output_type": "stream",
          "name": "stdout",
          "text": [
            "['1' '2' 'hello world']\n"
          ]
        }
      ]
    },
    {
      "cell_type": "code",
      "source": [
        "\n",
        "array1 = np.array([[1,2],[4,5]])\n",
        "array2 = np.array([[1,2,3],[4,5,6],[7,8,9]])\n",
        "\n",
        "print(\"Array : \", array)\n",
        "print(\"Array1 : \", array1)\n",
        "print(\"Array2 : \", array2)\n",
        "\n",
        "\n",
        "print(\"Dim of array : \", array.ndim)\n",
        "print(\"Dim of array1 : \", array1.ndim)\n",
        "print(\"Dim of array2 : \", array2.ndim)\n",
        "\n",
        "print(\"Shape of array : \", array.shape)              # Howmany rows and columns ?\n",
        "print(\"Shape of array1 : \", array1.shape)\n",
        "print(\"Shape of array2 : \", array2.shape)\n",
        "\n",
        "\n",
        "print(\"Size of array : \", array.size)              # Howmany elements in the array ?\n",
        "print(\"Size of array1 : \", array1.size)\n",
        "print(\"Size of array2 : \", array2.size)\n",
        "\n",
        "\n",
        "print(\"Datatype of array : \", array.dtype)              # What is the datatype of an array ?\n",
        "print(\"Datatype of array1 : \", array1.dtype)\n",
        "print(\"Datatype of array2 : \", array2.dtype)\n",
        "\n",
        "array0 = np.zeros((3,3))\n",
        "print(\"Zero Array : \", array0)\n",
        "\n",
        "array1 = np.ones((3,3))\n",
        "print(\"Zero Array : \", array1)"
      ],
      "metadata": {
        "colab": {
          "base_uri": "https://localhost:8080/"
        },
        "id": "OEbQ9t6JQt6k",
        "outputId": "ca58e315-b35d-41da-d598-45a7b49901b3"
      },
      "execution_count": 12,
      "outputs": [
        {
          "output_type": "stream",
          "name": "stdout",
          "text": [
            "Array :  ['10' '20' '30' '40']\n",
            "Array1 :  [[1 2]\n",
            " [4 5]]\n",
            "Array2 :  [[1 2 3]\n",
            " [4 5 6]\n",
            " [7 8 9]]\n",
            "Dim of array :  1\n",
            "Dim of array1 :  2\n",
            "Dim of array2 :  2\n",
            "Shape of array :  (4,)\n",
            "Shape of array1 :  (2, 2)\n",
            "Shape of array2 :  (3, 3)\n",
            "Size of array :  4\n",
            "Size of array1 :  4\n",
            "Size of array2 :  9\n",
            "Datatype of array :  <U2\n",
            "Datatype of array1 :  int64\n",
            "Datatype of array2 :  int64\n",
            "Zero Array :  [[0. 0. 0.]\n",
            " [0. 0. 0.]\n",
            " [0. 0. 0.]]\n",
            "Zero Array :  [[1. 1. 1.]\n",
            " [1. 1. 1.]\n",
            " [1. 1. 1.]]\n"
          ]
        }
      ]
    }
  ]
}