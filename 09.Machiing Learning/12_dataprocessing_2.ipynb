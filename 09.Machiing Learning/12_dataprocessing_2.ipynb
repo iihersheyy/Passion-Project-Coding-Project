{
  "nbformat": 4,
  "nbformat_minor": 0,
  "metadata": {
    "colab": {
      "provenance": []
    },
    "kernelspec": {
      "name": "python3",
      "display_name": "Python 3"
    },
    "language_info": {
      "name": "python"
    }
  },
  "cells": [
    {
      "cell_type": "markdown",
      "source": [
        "**Imputer**"
      ],
      "metadata": {
        "id": "IwMxST2A6ovw"
      }
    },
    {
      "cell_type": "code",
      "source": [
        "import pandas as pd\n",
        "import numpy as np\n",
        "from sklearn.impute import SimpleImputer"
      ],
      "metadata": {
        "id": "In59_ZjE6nxv"
      },
      "execution_count": 1,
      "outputs": []
    },
    {
      "cell_type": "code",
      "source": [
        "df = pd.read_csv('/content/sample_data/googleplaystore.csv')\n",
        "\n",
        "# Preprocessing the data to remove all NULLs\n",
        "\n",
        "print(\"Before imputer...\")\n",
        "print(df.isnull().sum())\n",
        "\n",
        "imputer = SimpleImputer(strategy=\"mean\")\n",
        "\n",
        "df.iloc[:,2:3]=imputer.fit_transform(df.iloc[:,2:3])\n",
        "df = df.dropna()\n",
        "print(\"After imputer...\")\n",
        "print(df.isnull().sum())\n"
      ],
      "metadata": {
        "colab": {
          "base_uri": "https://localhost:8080/"
        },
        "id": "noOaAGJP6zlt",
        "outputId": "10d869ba-eb31-4110-ef6e-c55aeb8ff4bc"
      },
      "execution_count": 6,
      "outputs": [
        {
          "output_type": "stream",
          "name": "stdout",
          "text": [
            "App                  0\n",
            "Category             0\n",
            "Rating            1474\n",
            "Reviews              0\n",
            "Size                 0\n",
            "Installs             0\n",
            "Type                 1\n",
            "Price                0\n",
            "Content Rating       1\n",
            "Genres               0\n",
            "Last Updated         0\n",
            "Current Ver          8\n",
            "Android Ver          3\n",
            "dtype: int64\n",
            "App               0\n",
            "Category          0\n",
            "Rating            0\n",
            "Reviews           0\n",
            "Size              0\n",
            "Installs          0\n",
            "Type              0\n",
            "Price             0\n",
            "Content Rating    0\n",
            "Genres            0\n",
            "Last Updated      0\n",
            "Current Ver       0\n",
            "Android Ver       0\n",
            "dtype: int64\n"
          ]
        }
      ]
    }
  ]
}