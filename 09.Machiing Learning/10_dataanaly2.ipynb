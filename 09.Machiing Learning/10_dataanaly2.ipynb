{
  "nbformat": 4,
  "nbformat_minor": 0,
  "metadata": {
    "colab": {
      "provenance": []
    },
    "kernelspec": {
      "name": "python3",
      "display_name": "Python 3"
    },
    "language_info": {
      "name": "python"
    }
  },
  "cells": [
    {
      "cell_type": "markdown",
      "source": [
        "**Data Analysis - Categorical**"
      ],
      "metadata": {
        "id": "Fntzf1OaUYC7"
      }
    },
    {
      "cell_type": "code",
      "source": [
        "import pandas as pd\n",
        "df = pd.read_csv(\"/content/sample_data/example_csv.csv\").dropna()\n",
        "\n",
        "df.head(2)\n"
      ],
      "metadata": {
        "id": "jdpxL7gYUcmz"
      },
      "execution_count": 2,
      "outputs": []
    },
    {
      "cell_type": "markdown",
      "source": [
        "**Find the unique countries**"
      ],
      "metadata": {
        "id": "PRKtzrNYUxCZ"
      }
    },
    {
      "cell_type": "code",
      "source": [
        "print(\"Unique Countires :\", df['Country'].unique())            #Unique values from the columns\n",
        "print(\"No of unique countires :\", len(df['Country'].unique()))\n"
      ],
      "metadata": {
        "colab": {
          "base_uri": "https://localhost:8080/"
        },
        "id": "ZnTkRIogU0Kt",
        "outputId": "16ae5ac1-3b39-4ddc-d0d0-ac98356bb5c7"
      },
      "execution_count": 3,
      "outputs": [
        {
          "output_type": "stream",
          "name": "stdout",
          "text": [
            "Unique Countires : ['Papua New Guinea' 'Finland' 'China' 'Turkmenistan' 'Mauritius' 'Bahamas'\n",
            " 'Pakistan' 'Heard Island and McDonald Islands' 'Kuwait' 'Uzbekistan'\n",
            " 'Bouvet Island (Bouvetoya)' 'Denmark' 'Liberia' 'United Arab Emirates'\n",
            " 'Sweden' 'Honduras' 'Uganda' 'Hong Kong' 'Botswana' 'Korea' 'Luxembourg'\n",
            " 'Guadeloupe' 'Monaco' 'Belgium' 'South Africa' 'Romania' 'Czech Republic'\n",
            " 'Christmas Island' 'Philippines' 'Australia' 'Chad' 'Zimbabwe' 'Nepal'\n",
            " 'Taiwan' 'Kyrgyz Republic' 'Bolivia' 'Kenya' 'Guatemala' 'Belarus'\n",
            " 'Jersey' 'Grenada' 'Cape Verde' 'Trinidad and Tobago' 'Benin' 'Turkey'\n",
            " 'Timor-Leste' 'Vietnam' 'Reunion' 'Brazil' 'Eritrea'\n",
            " 'United States Virgin Islands' 'Falkland Islands (Malvinas)'\n",
            " 'Northern Mariana Islands' 'Netherlands Antilles' 'Cameroon'\n",
            " 'Cocos (Keeling) Islands' 'Mali' 'Burundi' 'Gibraltar' 'El Salvador'\n",
            " 'Ethiopia' 'Anguilla' 'Togo']\n",
            "No of unique countires : 63\n"
          ]
        }
      ]
    },
    {
      "cell_type": "markdown",
      "source": [
        "**Country wide Number of Companies**"
      ],
      "metadata": {
        "id": "GK8Aj5gHU7BP"
      }
    },
    {
      "cell_type": "code",
      "source": [
        "country = {}\n",
        "for i in df['Country'].unique():\n",
        "    c = 0\n",
        "    for j in df['Country']:\n",
        "        if i == j:\n",
        "            c += 1\n",
        "    country[i] = c\n",
        "\n",
        "print(\"Country wide number of companies : \", country)\n"
      ],
      "metadata": {
        "colab": {
          "base_uri": "https://localhost:8080/"
        },
        "id": "reZFk34UU9zp",
        "outputId": "74afb772-df14-456d-e9b8-71e7a6c1b86a"
      },
      "execution_count": 4,
      "outputs": [
        {
          "output_type": "stream",
          "name": "stdout",
          "text": [
            "Country wide number of companies :  {'Papua New Guinea': 1, 'Finland': 1, 'China': 1, 'Turkmenistan': 1, 'Mauritius': 1, 'Bahamas': 1, 'Pakistan': 1, 'Heard Island and McDonald Islands': 1, 'Kuwait': 1, 'Uzbekistan': 1, 'Bouvet Island (Bouvetoya)': 1, 'Denmark': 1, 'Liberia': 1, 'United Arab Emirates': 1, 'Sweden': 3, 'Honduras': 1, 'Uganda': 1, 'Hong Kong': 1, 'Botswana': 1, 'Korea': 1, 'Luxembourg': 2, 'Guadeloupe': 1, 'Monaco': 1, 'Belgium': 1, 'South Africa': 1, 'Romania': 1, 'Czech Republic': 1, 'Christmas Island': 1, 'Philippines': 1, 'Australia': 1, 'Chad': 1, 'Zimbabwe': 2, 'Nepal': 1, 'Taiwan': 2, 'Kyrgyz Republic': 2, 'Bolivia': 1, 'Kenya': 1, 'Guatemala': 1, 'Belarus': 1, 'Jersey': 1, 'Grenada': 1, 'Cape Verde': 1, 'Trinidad and Tobago': 1, 'Benin': 2, 'Turkey': 1, 'Timor-Leste': 1, 'Vietnam': 1, 'Reunion': 1, 'Brazil': 1, 'Eritrea': 2, 'United States Virgin Islands': 2, 'Falkland Islands (Malvinas)': 2, 'Northern Mariana Islands': 1, 'Netherlands Antilles': 1, 'Cameroon': 1, 'Cocos (Keeling) Islands': 1, 'Mali': 1, 'Burundi': 1, 'Gibraltar': 1, 'El Salvador': 1, 'Ethiopia': 1, 'Anguilla': 1, 'Togo': 1}\n"
          ]
        }
      ]
    },
    {
      "cell_type": "code",
      "source": [
        "df['Country'].describe()               ### Automatic function to get unique, total and freq"
      ],
      "metadata": {
        "colab": {
          "base_uri": "https://localhost:8080/"
        },
        "id": "4gtOSbSKVAGx",
        "outputId": "5bd053b9-b052-4843-84f0-9be4d4d5b781"
      },
      "execution_count": 5,
      "outputs": [
        {
          "output_type": "execute_result",
          "data": {
            "text/plain": [
              "count         73\n",
              "unique        63\n",
              "top       Sweden\n",
              "freq           3\n",
              "Name: Country, dtype: object"
            ]
          },
          "metadata": {},
          "execution_count": 5
        }
      ]
    },
    {
      "cell_type": "markdown",
      "source": [
        "**NULL Value Handling - Numeric**"
      ],
      "metadata": {
        "id": "JUxm3ap2VDz1"
      }
    },
    {
      "cell_type": "code",
      "source": [
        "#Method#1 to remove NULL is 'dropna'\n",
        "\n",
        "print(\"Total Records \", len(df))\n",
        "print(\"Total Unique Records\", len(df.dropna()))\n",
        "\n",
        "\n",
        "df.dropna().head(2)"
      ],
      "metadata": {
        "colab": {
          "base_uri": "https://localhost:8080/",
          "height": 230
        },
        "id": "eNNd2I38VHDh",
        "outputId": "f60cacd2-16cf-4f17-f81f-9fc73b6c087e"
      },
      "execution_count": 6,
      "outputs": [
        {
          "output_type": "stream",
          "name": "stdout",
          "text": [
            "Total Records  73\n",
            "Total Unique Records 73\n"
          ]
        },
        {
          "output_type": "execute_result",
          "data": {
            "text/plain": [
              "   Index  Organization Id                     Name  \\\n",
              "0      1  FAB0d41d5b5d22c              Ferrell LLC   \n",
              "1      2  6A7EdDEA9FaDC52  Mckinney, Riley and Day   \n",
              "\n",
              "                          Website           Country  \\\n",
              "0              https://price.net/  Papua New Guinea   \n",
              "1  http://www.hall-buchanan.info/           Finland   \n",
              "\n",
              "                           Description  Founded                     Industry  \\\n",
              "0  Horizontal empowering knowledgebase     1990                     Plastics   \n",
              "1  User-centric system-worthy leverage     2015  Glass / Ceramics / Concrete   \n",
              "\n",
              "   Number of employees  \n",
              "0               3498.0  \n",
              "1               4952.0  "
            ],
            "text/html": [
              "\n",
              "  <div id=\"df-5b452664-2e05-42ff-8bb9-8460a6f30e51\" class=\"colab-df-container\">\n",
              "    <div>\n",
              "<style scoped>\n",
              "    .dataframe tbody tr th:only-of-type {\n",
              "        vertical-align: middle;\n",
              "    }\n",
              "\n",
              "    .dataframe tbody tr th {\n",
              "        vertical-align: top;\n",
              "    }\n",
              "\n",
              "    .dataframe thead th {\n",
              "        text-align: right;\n",
              "    }\n",
              "</style>\n",
              "<table border=\"1\" class=\"dataframe\">\n",
              "  <thead>\n",
              "    <tr style=\"text-align: right;\">\n",
              "      <th></th>\n",
              "      <th>Index</th>\n",
              "      <th>Organization Id</th>\n",
              "      <th>Name</th>\n",
              "      <th>Website</th>\n",
              "      <th>Country</th>\n",
              "      <th>Description</th>\n",
              "      <th>Founded</th>\n",
              "      <th>Industry</th>\n",
              "      <th>Number of employees</th>\n",
              "    </tr>\n",
              "  </thead>\n",
              "  <tbody>\n",
              "    <tr>\n",
              "      <th>0</th>\n",
              "      <td>1</td>\n",
              "      <td>FAB0d41d5b5d22c</td>\n",
              "      <td>Ferrell LLC</td>\n",
              "      <td>https://price.net/</td>\n",
              "      <td>Papua New Guinea</td>\n",
              "      <td>Horizontal empowering knowledgebase</td>\n",
              "      <td>1990</td>\n",
              "      <td>Plastics</td>\n",
              "      <td>3498.0</td>\n",
              "    </tr>\n",
              "    <tr>\n",
              "      <th>1</th>\n",
              "      <td>2</td>\n",
              "      <td>6A7EdDEA9FaDC52</td>\n",
              "      <td>Mckinney, Riley and Day</td>\n",
              "      <td>http://www.hall-buchanan.info/</td>\n",
              "      <td>Finland</td>\n",
              "      <td>User-centric system-worthy leverage</td>\n",
              "      <td>2015</td>\n",
              "      <td>Glass / Ceramics / Concrete</td>\n",
              "      <td>4952.0</td>\n",
              "    </tr>\n",
              "  </tbody>\n",
              "</table>\n",
              "</div>\n",
              "    <div class=\"colab-df-buttons\">\n",
              "\n",
              "  <div class=\"colab-df-container\">\n",
              "    <button class=\"colab-df-convert\" onclick=\"convertToInteractive('df-5b452664-2e05-42ff-8bb9-8460a6f30e51')\"\n",
              "            title=\"Convert this dataframe to an interactive table.\"\n",
              "            style=\"display:none;\">\n",
              "\n",
              "  <svg xmlns=\"http://www.w3.org/2000/svg\" height=\"24px\" viewBox=\"0 -960 960 960\">\n",
              "    <path d=\"M120-120v-720h720v720H120Zm60-500h600v-160H180v160Zm220 220h160v-160H400v160Zm0 220h160v-160H400v160ZM180-400h160v-160H180v160Zm440 0h160v-160H620v160ZM180-180h160v-160H180v160Zm440 0h160v-160H620v160Z\"/>\n",
              "  </svg>\n",
              "    </button>\n",
              "\n",
              "  <style>\n",
              "    .colab-df-container {\n",
              "      display:flex;\n",
              "      gap: 12px;\n",
              "    }\n",
              "\n",
              "    .colab-df-convert {\n",
              "      background-color: #E8F0FE;\n",
              "      border: none;\n",
              "      border-radius: 50%;\n",
              "      cursor: pointer;\n",
              "      display: none;\n",
              "      fill: #1967D2;\n",
              "      height: 32px;\n",
              "      padding: 0 0 0 0;\n",
              "      width: 32px;\n",
              "    }\n",
              "\n",
              "    .colab-df-convert:hover {\n",
              "      background-color: #E2EBFA;\n",
              "      box-shadow: 0px 1px 2px rgba(60, 64, 67, 0.3), 0px 1px 3px 1px rgba(60, 64, 67, 0.15);\n",
              "      fill: #174EA6;\n",
              "    }\n",
              "\n",
              "    .colab-df-buttons div {\n",
              "      margin-bottom: 4px;\n",
              "    }\n",
              "\n",
              "    [theme=dark] .colab-df-convert {\n",
              "      background-color: #3B4455;\n",
              "      fill: #D2E3FC;\n",
              "    }\n",
              "\n",
              "    [theme=dark] .colab-df-convert:hover {\n",
              "      background-color: #434B5C;\n",
              "      box-shadow: 0px 1px 3px 1px rgba(0, 0, 0, 0.15);\n",
              "      filter: drop-shadow(0px 1px 2px rgba(0, 0, 0, 0.3));\n",
              "      fill: #FFFFFF;\n",
              "    }\n",
              "  </style>\n",
              "\n",
              "    <script>\n",
              "      const buttonEl =\n",
              "        document.querySelector('#df-5b452664-2e05-42ff-8bb9-8460a6f30e51 button.colab-df-convert');\n",
              "      buttonEl.style.display =\n",
              "        google.colab.kernel.accessAllowed ? 'block' : 'none';\n",
              "\n",
              "      async function convertToInteractive(key) {\n",
              "        const element = document.querySelector('#df-5b452664-2e05-42ff-8bb9-8460a6f30e51');\n",
              "        const dataTable =\n",
              "          await google.colab.kernel.invokeFunction('convertToInteractive',\n",
              "                                                    [key], {});\n",
              "        if (!dataTable) return;\n",
              "\n",
              "        const docLinkHtml = 'Like what you see? Visit the ' +\n",
              "          '<a target=\"_blank\" href=https://colab.research.google.com/notebooks/data_table.ipynb>data table notebook</a>'\n",
              "          + ' to learn more about interactive tables.';\n",
              "        element.innerHTML = '';\n",
              "        dataTable['output_type'] = 'display_data';\n",
              "        await google.colab.output.renderOutput(dataTable, element);\n",
              "        const docLink = document.createElement('div');\n",
              "        docLink.innerHTML = docLinkHtml;\n",
              "        element.appendChild(docLink);\n",
              "      }\n",
              "    </script>\n",
              "  </div>\n",
              "\n",
              "    </div>\n",
              "  </div>\n"
            ]
          },
          "metadata": {},
          "execution_count": 6
        }
      ]
    },
    {
      "cell_type": "markdown",
      "source": [
        "**Using Imputers to replacing NULL*"
      ],
      "metadata": {
        "id": "8WBi3rGrVNMx"
      }
    },
    {
      "cell_type": "code",
      "source": [
        "from sklearn.impute import SimpleImputer\n",
        "import numpy as np\n",
        "\n",
        "# create a sample dataset with missing values\n",
        "X = np.array([[1, 2, np.nan],\n",
        "              [3, np.nan, 4],\n",
        "              [5, 6, 7],\n",
        "              [8, np.nan, 9]])\n",
        "\n",
        "print(\"Before Impute : \\n\",X)\n",
        "# create an imputer object with mean imputation strategy\n",
        "imputer = SimpleImputer(strategy='mean')\n",
        "\n",
        "# fit the imputer object to the data and transform it\n",
        "X_imputed = imputer.fit_transform(X)\n",
        "\n",
        "# print the imputed data\n",
        "print(\"\\nAfter Impute : \\n\",X_imputed)"
      ],
      "metadata": {
        "colab": {
          "base_uri": "https://localhost:8080/"
        },
        "id": "5hSsVcgUVPxf",
        "outputId": "c7bd5b85-5dc1-4995-a203-0b41ec63bdb6"
      },
      "execution_count": 7,
      "outputs": [
        {
          "output_type": "stream",
          "name": "stdout",
          "text": [
            "Before Impute : \n",
            " [[ 1.  2. nan]\n",
            " [ 3. nan  4.]\n",
            " [ 5.  6.  7.]\n",
            " [ 8. nan  9.]]\n",
            "\n",
            "After Impute : \n",
            " [[1.         2.         6.66666667]\n",
            " [3.         4.         4.        ]\n",
            " [5.         6.         7.        ]\n",
            " [8.         4.         9.        ]]\n"
          ]
        }
      ]
    },
    {
      "cell_type": "markdown",
      "source": [],
      "metadata": {
        "id": "MWZfOy8TVY1P"
      }
    },
    {
      "cell_type": "code",
      "source": [
        "import numpy as np\n",
        "from sklearn.impute import SimpleImputer\n",
        "\n",
        "print(\"\\n Before filing NULL in description\", df.isnull().sum())\n",
        "imputer = SimpleImputer(strategy='most_frequent')\n",
        "\n",
        "#NOTE :df.iloc[:,5:6]  >>> Getting the description columns\n",
        "\n",
        "df_imputed = imputer.fit_transform(df.iloc[:,5:6].values)              ### Getting 'Description' column and filling\n",
        "#print(\"\\n Before filing NULL in description\", df_imputed)              ### Null with \"most_frequent\" occured data\n",
        "\n",
        "df.iloc[:,5:6] = df_imputed                                            ### After filing and recreate DF\n",
        "\n",
        "print(\"\\n After filing NULL in description\", df.isnull().sum())\n"
      ],
      "metadata": {
        "colab": {
          "base_uri": "https://localhost:8080/"
        },
        "id": "_ss6FYK7VgwX",
        "outputId": "73bb5c8d-4070-4965-a2b3-d0189bbcabd6"
      },
      "execution_count": 9,
      "outputs": [
        {
          "output_type": "stream",
          "name": "stdout",
          "text": [
            "\n",
            " Before filing NULL in description Index                  0\n",
            "Organization Id        0\n",
            "Name                   0\n",
            "Website                0\n",
            "Country                0\n",
            "Description            0\n",
            "Founded                0\n",
            "Industry               0\n",
            "Number of employees    0\n",
            "dtype: int64\n",
            "\n",
            " After filing NULL in description Index                  0\n",
            "Organization Id        0\n",
            "Name                   0\n",
            "Website                0\n",
            "Country                0\n",
            "Description            0\n",
            "Founded                0\n",
            "Industry               0\n",
            "Number of employees    0\n",
            "dtype: int64\n"
          ]
        }
      ]
    }
  ]
}