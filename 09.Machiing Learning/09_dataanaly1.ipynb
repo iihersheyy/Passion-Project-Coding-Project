{
  "nbformat": 4,
  "nbformat_minor": 0,
  "metadata": {
    "colab": {
      "provenance": []
    },
    "kernelspec": {
      "name": "python3",
      "display_name": "Python 3"
    },
    "language_info": {
      "name": "python"
    }
  },
  "cells": [
    {
      "cell_type": "markdown",
      "source": [
        "**Data Analysis**"
      ],
      "metadata": {
        "id": "ld1aWNcLSgT0"
      }
    },
    {
      "cell_type": "code",
      "source": [
        "import pandas as pd\n",
        "df = pd.read_csv(\"/content/sample_data/example_csv.csv\").dropna()\n"
      ],
      "metadata": {
        "id": "hG-iqEELSid6"
      },
      "execution_count": 4,
      "outputs": []
    },
    {
      "cell_type": "code",
      "source": [
        "**Number of Records**"
      ],
      "metadata": {
        "id": "BhzE_zExS5Vz"
      },
      "execution_count": null,
      "outputs": []
    },
    {
      "cell_type": "code",
      "source": [
        "len(df)"
      ],
      "metadata": {
        "colab": {
          "base_uri": "https://localhost:8080/"
        },
        "id": "5nHTTEjRSzWZ",
        "outputId": "81cc7685-394c-484a-aa77-bc4d5198de1c"
      },
      "execution_count": 5,
      "outputs": [
        {
          "output_type": "execute_result",
          "data": {
            "text/plain": [
              "73"
            ]
          },
          "metadata": {},
          "execution_count": 5
        }
      ]
    },
    {
      "cell_type": "code",
      "source": [
        "df.head(3)"
      ],
      "metadata": {
        "colab": {
          "base_uri": "https://localhost:8080/",
          "height": 281
        },
        "id": "yJywLhGeTIqb",
        "outputId": "01210cd0-b5d5-49e9-ddc4-3a92544f75d8"
      },
      "execution_count": 6,
      "outputs": [
        {
          "output_type": "execute_result",
          "data": {
            "text/plain": [
              "   Index  Organization Id                     Name  \\\n",
              "0      1  FAB0d41d5b5d22c              Ferrell LLC   \n",
              "1      2  6A7EdDEA9FaDC52  Mckinney, Riley and Day   \n",
              "2      3  0bFED1ADAE4bcC1               Hester Ltd   \n",
              "\n",
              "                          Website           Country  \\\n",
              "0              https://price.net/  Papua New Guinea   \n",
              "1  http://www.hall-buchanan.info/           Finland   \n",
              "2       http://sullivan-reed.com/             China   \n",
              "\n",
              "                           Description  Founded                     Industry  \\\n",
              "0  Horizontal empowering knowledgebase     1990                     Plastics   \n",
              "1  User-centric system-worthy leverage     2015  Glass / Ceramics / Concrete   \n",
              "2       Switchable scalable moratorium     1971                Public Safety   \n",
              "\n",
              "   Number of employees  \n",
              "0               3498.0  \n",
              "1               4952.0  \n",
              "2               5287.0  "
            ],
            "text/html": [
              "\n",
              "  <div id=\"df-65cb519a-46b2-4ea6-9bee-b9187e08c44a\" class=\"colab-df-container\">\n",
              "    <div>\n",
              "<style scoped>\n",
              "    .dataframe tbody tr th:only-of-type {\n",
              "        vertical-align: middle;\n",
              "    }\n",
              "\n",
              "    .dataframe tbody tr th {\n",
              "        vertical-align: top;\n",
              "    }\n",
              "\n",
              "    .dataframe thead th {\n",
              "        text-align: right;\n",
              "    }\n",
              "</style>\n",
              "<table border=\"1\" class=\"dataframe\">\n",
              "  <thead>\n",
              "    <tr style=\"text-align: right;\">\n",
              "      <th></th>\n",
              "      <th>Index</th>\n",
              "      <th>Organization Id</th>\n",
              "      <th>Name</th>\n",
              "      <th>Website</th>\n",
              "      <th>Country</th>\n",
              "      <th>Description</th>\n",
              "      <th>Founded</th>\n",
              "      <th>Industry</th>\n",
              "      <th>Number of employees</th>\n",
              "    </tr>\n",
              "  </thead>\n",
              "  <tbody>\n",
              "    <tr>\n",
              "      <th>0</th>\n",
              "      <td>1</td>\n",
              "      <td>FAB0d41d5b5d22c</td>\n",
              "      <td>Ferrell LLC</td>\n",
              "      <td>https://price.net/</td>\n",
              "      <td>Papua New Guinea</td>\n",
              "      <td>Horizontal empowering knowledgebase</td>\n",
              "      <td>1990</td>\n",
              "      <td>Plastics</td>\n",
              "      <td>3498.0</td>\n",
              "    </tr>\n",
              "    <tr>\n",
              "      <th>1</th>\n",
              "      <td>2</td>\n",
              "      <td>6A7EdDEA9FaDC52</td>\n",
              "      <td>Mckinney, Riley and Day</td>\n",
              "      <td>http://www.hall-buchanan.info/</td>\n",
              "      <td>Finland</td>\n",
              "      <td>User-centric system-worthy leverage</td>\n",
              "      <td>2015</td>\n",
              "      <td>Glass / Ceramics / Concrete</td>\n",
              "      <td>4952.0</td>\n",
              "    </tr>\n",
              "    <tr>\n",
              "      <th>2</th>\n",
              "      <td>3</td>\n",
              "      <td>0bFED1ADAE4bcC1</td>\n",
              "      <td>Hester Ltd</td>\n",
              "      <td>http://sullivan-reed.com/</td>\n",
              "      <td>China</td>\n",
              "      <td>Switchable scalable moratorium</td>\n",
              "      <td>1971</td>\n",
              "      <td>Public Safety</td>\n",
              "      <td>5287.0</td>\n",
              "    </tr>\n",
              "  </tbody>\n",
              "</table>\n",
              "</div>\n",
              "    <div class=\"colab-df-buttons\">\n",
              "\n",
              "  <div class=\"colab-df-container\">\n",
              "    <button class=\"colab-df-convert\" onclick=\"convertToInteractive('df-65cb519a-46b2-4ea6-9bee-b9187e08c44a')\"\n",
              "            title=\"Convert this dataframe to an interactive table.\"\n",
              "            style=\"display:none;\">\n",
              "\n",
              "  <svg xmlns=\"http://www.w3.org/2000/svg\" height=\"24px\" viewBox=\"0 -960 960 960\">\n",
              "    <path d=\"M120-120v-720h720v720H120Zm60-500h600v-160H180v160Zm220 220h160v-160H400v160Zm0 220h160v-160H400v160ZM180-400h160v-160H180v160Zm440 0h160v-160H620v160ZM180-180h160v-160H180v160Zm440 0h160v-160H620v160Z\"/>\n",
              "  </svg>\n",
              "    </button>\n",
              "\n",
              "  <style>\n",
              "    .colab-df-container {\n",
              "      display:flex;\n",
              "      gap: 12px;\n",
              "    }\n",
              "\n",
              "    .colab-df-convert {\n",
              "      background-color: #E8F0FE;\n",
              "      border: none;\n",
              "      border-radius: 50%;\n",
              "      cursor: pointer;\n",
              "      display: none;\n",
              "      fill: #1967D2;\n",
              "      height: 32px;\n",
              "      padding: 0 0 0 0;\n",
              "      width: 32px;\n",
              "    }\n",
              "\n",
              "    .colab-df-convert:hover {\n",
              "      background-color: #E2EBFA;\n",
              "      box-shadow: 0px 1px 2px rgba(60, 64, 67, 0.3), 0px 1px 3px 1px rgba(60, 64, 67, 0.15);\n",
              "      fill: #174EA6;\n",
              "    }\n",
              "\n",
              "    .colab-df-buttons div {\n",
              "      margin-bottom: 4px;\n",
              "    }\n",
              "\n",
              "    [theme=dark] .colab-df-convert {\n",
              "      background-color: #3B4455;\n",
              "      fill: #D2E3FC;\n",
              "    }\n",
              "\n",
              "    [theme=dark] .colab-df-convert:hover {\n",
              "      background-color: #434B5C;\n",
              "      box-shadow: 0px 1px 3px 1px rgba(0, 0, 0, 0.15);\n",
              "      filter: drop-shadow(0px 1px 2px rgba(0, 0, 0, 0.3));\n",
              "      fill: #FFFFFF;\n",
              "    }\n",
              "  </style>\n",
              "\n",
              "    <script>\n",
              "      const buttonEl =\n",
              "        document.querySelector('#df-65cb519a-46b2-4ea6-9bee-b9187e08c44a button.colab-df-convert');\n",
              "      buttonEl.style.display =\n",
              "        google.colab.kernel.accessAllowed ? 'block' : 'none';\n",
              "\n",
              "      async function convertToInteractive(key) {\n",
              "        const element = document.querySelector('#df-65cb519a-46b2-4ea6-9bee-b9187e08c44a');\n",
              "        const dataTable =\n",
              "          await google.colab.kernel.invokeFunction('convertToInteractive',\n",
              "                                                    [key], {});\n",
              "        if (!dataTable) return;\n",
              "\n",
              "        const docLinkHtml = 'Like what you see? Visit the ' +\n",
              "          '<a target=\"_blank\" href=https://colab.research.google.com/notebooks/data_table.ipynb>data table notebook</a>'\n",
              "          + ' to learn more about interactive tables.';\n",
              "        element.innerHTML = '';\n",
              "        dataTable['output_type'] = 'display_data';\n",
              "        await google.colab.output.renderOutput(dataTable, element);\n",
              "        const docLink = document.createElement('div');\n",
              "        docLink.innerHTML = docLinkHtml;\n",
              "        element.appendChild(docLink);\n",
              "      }\n",
              "    </script>\n",
              "  </div>\n",
              "\n",
              "    </div>\n",
              "  </div>\n"
            ]
          },
          "metadata": {},
          "execution_count": 6
        }
      ]
    },
    {
      "cell_type": "markdown",
      "source": [
        "**Finding the average FOUNDED YEAR in the data set**"
      ],
      "metadata": {
        "id": "nxcQXYL8TL6C"
      }
    },
    {
      "cell_type": "code",
      "source": [
        "total_founded = sum(df['Founded'])\n",
        "total_data = len(df)\n",
        "\n",
        "founded_avg = total_founded/total_data\n",
        "print(founded_avg)\n",
        "print(int(founded_avg))"
      ],
      "metadata": {
        "colab": {
          "base_uri": "https://localhost:8080/"
        },
        "id": "gGcXJz4UTP1h",
        "outputId": "61ebc93e-c829-4253-e484-6d2d75bdc405"
      },
      "execution_count": 9,
      "outputs": [
        {
          "output_type": "stream",
          "name": "stdout",
          "text": [
            "1995.4109589041095\n",
            "1995\n"
          ]
        }
      ]
    },
    {
      "cell_type": "code",
      "source": [],
      "metadata": {
        "id": "2Y5uxbFnTqJy"
      },
      "execution_count": null,
      "outputs": []
    },
    {
      "cell_type": "markdown",
      "source": [
        "**Howmany companies founded before 1980**"
      ],
      "metadata": {
        "id": "b4pkMUB7Tsa9"
      }
    },
    {
      "cell_type": "code",
      "source": [
        "count = 0\n",
        "for i in df['Founded']:\n",
        "  if i >= 1980:\n",
        "    count += 1\n",
        "\n",
        "print(\"Number companies founded on/before 1980 is : %d\" % count)"
      ],
      "metadata": {
        "colab": {
          "base_uri": "https://localhost:8080/"
        },
        "id": "0ciHiCDgTv7m",
        "outputId": "bf31f7f9-a6c2-4e20-b87b-ae470af71aa1"
      },
      "execution_count": 10,
      "outputs": [
        {
          "output_type": "stream",
          "name": "stdout",
          "text": [
            "Number companies founded on/before 1980 is : 59\n"
          ]
        }
      ]
    }
  ]
}